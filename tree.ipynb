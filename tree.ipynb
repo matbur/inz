{
 "cells": [
  {
   "cell_type": "code",
   "execution_count": 1,
   "metadata": {},
   "outputs": [],
   "source": [
    "import pandas as pd\n",
    "from pydotplus import graph_from_dot_file\n",
    "from sklearn.model_selection import train_test_split\n",
    "from sklearn.tree import DecisionTreeClassifier, export_graphviz"
   ]
  },
  {
   "cell_type": "code",
   "execution_count": 2,
   "metadata": {
    "scrolled": true
   },
   "outputs": [
    {
     "name": "stdout",
     "output_type": "stream",
     "text": [
      "(476, 32)\n"
     ]
    },
    {
     "data": {
      "text/html": [
       "<div>\n",
       "<style>\n",
       "    .dataframe thead tr:only-child th {\n",
       "        text-align: right;\n",
       "    }\n",
       "\n",
       "    .dataframe thead th {\n",
       "        text-align: left;\n",
       "    }\n",
       "\n",
       "    .dataframe tbody tr th {\n",
       "        vertical-align: top;\n",
       "    }\n",
       "</style>\n",
       "<table border=\"1\" class=\"dataframe\">\n",
       "  <thead>\n",
       "    <tr style=\"text-align: right;\">\n",
       "      <th></th>\n",
       "      <th>Płeć</th>\n",
       "      <th>Wiek</th>\n",
       "      <th>Lokalizacja bólu na początku zachorowania</th>\n",
       "      <th>Lokalizacja bólu obecnie</th>\n",
       "      <th>Intensywność bólu</th>\n",
       "      <th>Czynniki nasilające ból</th>\n",
       "      <th>Czynniki przynoszące ulgę</th>\n",
       "      <th>Progresja bólu</th>\n",
       "      <th>Czas trwania bólu</th>\n",
       "      <th>Charakter bólu na początku zachorowania</th>\n",
       "      <th>...</th>\n",
       "      <th>Tętno</th>\n",
       "      <th>Ruchy oddechowe powłok brzusznych</th>\n",
       "      <th>Wzdęcia</th>\n",
       "      <th>Umiejscowienie bolesności uciskowej</th>\n",
       "      <th>Objaw Blumberga</th>\n",
       "      <th>Obrona mięśniowa</th>\n",
       "      <th>Wzmożone napięcie powłok brzusznych</th>\n",
       "      <th>Opory patologiczne</th>\n",
       "      <th>Objaw Murphy'ego</th>\n",
       "      <th>Choroba</th>\n",
       "    </tr>\n",
       "  </thead>\n",
       "  <tbody>\n",
       "    <tr>\n",
       "      <th>0</th>\n",
       "      <td>2</td>\n",
       "      <td>5</td>\n",
       "      <td>7</td>\n",
       "      <td>7</td>\n",
       "      <td>1</td>\n",
       "      <td>3</td>\n",
       "      <td>2</td>\n",
       "      <td>1</td>\n",
       "      <td>3</td>\n",
       "      <td>2</td>\n",
       "      <td>...</td>\n",
       "      <td>5</td>\n",
       "      <td>2</td>\n",
       "      <td>2</td>\n",
       "      <td>8</td>\n",
       "      <td>2</td>\n",
       "      <td>1</td>\n",
       "      <td>2</td>\n",
       "      <td>2</td>\n",
       "      <td>1</td>\n",
       "      <td>1</td>\n",
       "    </tr>\n",
       "    <tr>\n",
       "      <th>1</th>\n",
       "      <td>2</td>\n",
       "      <td>5</td>\n",
       "      <td>4</td>\n",
       "      <td>1</td>\n",
       "      <td>3</td>\n",
       "      <td>3</td>\n",
       "      <td>1</td>\n",
       "      <td>2</td>\n",
       "      <td>3</td>\n",
       "      <td>2</td>\n",
       "      <td>...</td>\n",
       "      <td>7</td>\n",
       "      <td>2</td>\n",
       "      <td>1</td>\n",
       "      <td>3</td>\n",
       "      <td>2</td>\n",
       "      <td>1</td>\n",
       "      <td>1</td>\n",
       "      <td>2</td>\n",
       "      <td>1</td>\n",
       "      <td>1</td>\n",
       "    </tr>\n",
       "    <tr>\n",
       "      <th>2</th>\n",
       "      <td>2</td>\n",
       "      <td>3</td>\n",
       "      <td>4</td>\n",
       "      <td>5</td>\n",
       "      <td>2</td>\n",
       "      <td>3</td>\n",
       "      <td>2</td>\n",
       "      <td>3</td>\n",
       "      <td>4</td>\n",
       "      <td>2</td>\n",
       "      <td>...</td>\n",
       "      <td>4</td>\n",
       "      <td>1</td>\n",
       "      <td>2</td>\n",
       "      <td>2</td>\n",
       "      <td>1</td>\n",
       "      <td>2</td>\n",
       "      <td>1</td>\n",
       "      <td>1</td>\n",
       "      <td>1</td>\n",
       "      <td>1</td>\n",
       "    </tr>\n",
       "    <tr>\n",
       "      <th>3</th>\n",
       "      <td>2</td>\n",
       "      <td>5</td>\n",
       "      <td>7</td>\n",
       "      <td>2</td>\n",
       "      <td>1</td>\n",
       "      <td>3</td>\n",
       "      <td>1</td>\n",
       "      <td>2</td>\n",
       "      <td>2</td>\n",
       "      <td>2</td>\n",
       "      <td>...</td>\n",
       "      <td>7</td>\n",
       "      <td>2</td>\n",
       "      <td>1</td>\n",
       "      <td>11</td>\n",
       "      <td>2</td>\n",
       "      <td>2</td>\n",
       "      <td>2</td>\n",
       "      <td>1</td>\n",
       "      <td>1</td>\n",
       "      <td>1</td>\n",
       "    </tr>\n",
       "    <tr>\n",
       "      <th>4</th>\n",
       "      <td>2</td>\n",
       "      <td>3</td>\n",
       "      <td>4</td>\n",
       "      <td>11</td>\n",
       "      <td>2</td>\n",
       "      <td>3</td>\n",
       "      <td>3</td>\n",
       "      <td>2</td>\n",
       "      <td>3</td>\n",
       "      <td>1</td>\n",
       "      <td>...</td>\n",
       "      <td>4</td>\n",
       "      <td>1</td>\n",
       "      <td>2</td>\n",
       "      <td>6</td>\n",
       "      <td>2</td>\n",
       "      <td>1</td>\n",
       "      <td>2</td>\n",
       "      <td>2</td>\n",
       "      <td>2</td>\n",
       "      <td>1</td>\n",
       "    </tr>\n",
       "  </tbody>\n",
       "</table>\n",
       "<p>5 rows × 32 columns</p>\n",
       "</div>"
      ],
      "text/plain": [
       "   Płeć  Wiek  Lokalizacja bólu na początku zachorowania  \\\n",
       "0     2     5                                          7   \n",
       "1     2     5                                          4   \n",
       "2     2     3                                          4   \n",
       "3     2     5                                          7   \n",
       "4     2     3                                          4   \n",
       "\n",
       "   Lokalizacja bólu obecnie  Intensywność bólu  Czynniki nasilające ból  \\\n",
       "0                         7                  1                        3   \n",
       "1                         1                  3                        3   \n",
       "2                         5                  2                        3   \n",
       "3                         2                  1                        3   \n",
       "4                        11                  2                        3   \n",
       "\n",
       "   Czynniki przynoszące ulgę  Progresja bólu  Czas trwania bólu  \\\n",
       "0                          2               1                  3   \n",
       "1                          1               2                  3   \n",
       "2                          2               3                  4   \n",
       "3                          1               2                  2   \n",
       "4                          3               2                  3   \n",
       "\n",
       "   Charakter bólu na początku zachorowania   ...     Tętno  \\\n",
       "0                                        2   ...         5   \n",
       "1                                        2   ...         7   \n",
       "2                                        2   ...         4   \n",
       "3                                        2   ...         7   \n",
       "4                                        1   ...         4   \n",
       "\n",
       "   Ruchy oddechowe powłok brzusznych  Wzdęcia  \\\n",
       "0                                  2        2   \n",
       "1                                  2        1   \n",
       "2                                  1        2   \n",
       "3                                  2        1   \n",
       "4                                  1        2   \n",
       "\n",
       "   Umiejscowienie bolesności uciskowej  Objaw Blumberga  Obrona mięśniowa  \\\n",
       "0                                    8                2                 1   \n",
       "1                                    3                2                 1   \n",
       "2                                    2                1                 2   \n",
       "3                                   11                2                 2   \n",
       "4                                    6                2                 1   \n",
       "\n",
       "   Wzmożone napięcie powłok brzusznych  Opory patologiczne  Objaw Murphy'ego  \\\n",
       "0                                    2                   2                 1   \n",
       "1                                    1                   2                 1   \n",
       "2                                    1                   1                 1   \n",
       "3                                    2                   1                 1   \n",
       "4                                    2                   2                 2   \n",
       "\n",
       "   Choroba  \n",
       "0        1  \n",
       "1        1  \n",
       "2        1  \n",
       "3        1  \n",
       "4        1  \n",
       "\n",
       "[5 rows x 32 columns]"
      ]
     },
     "execution_count": 2,
     "metadata": {},
     "output_type": "execute_result"
    }
   ],
   "source": [
    "fn = 'data.csv'\n",
    "data = pd.read_csv(fn)\n",
    "\n",
    "print(data.shape)\n",
    "data.head()"
   ]
  },
  {
   "cell_type": "code",
   "execution_count": 3,
   "metadata": {
    "collapsed": true
   },
   "outputs": [],
   "source": [
    "class_names = [\n",
    "    'Ostre zapalenie wyrostka robaczkowego',\n",
    "    'Zapalenie uchyłków jelit',\n",
    "    'Niedrożność mechaniczna jelit',\n",
    "    'Perforowany wrzód trawienny',\n",
    "    'Zapalenie woreczka żółciowego',\n",
    "    'Ostre zapalenie trzustki',\n",
    "    'Niecharakterystyczny ból brzucha',\n",
    "    'Inne przyczyny ostrego bólu brzucha',\n",
    "]"
   ]
  },
  {
   "cell_type": "code",
   "execution_count": 4,
   "metadata": {},
   "outputs": [],
   "source": [
    "train_x, test_x = train_test_split(data)\n",
    "\n",
    "train_y = train_x.pop('Choroba')\n",
    "test_y = test_x.pop('Choroba')"
   ]
  },
  {
   "cell_type": "code",
   "execution_count": 5,
   "metadata": {
    "scrolled": true
   },
   "outputs": [
    {
     "data": {
      "text/plain": [
       "DecisionTreeClassifier(class_weight=None, criterion='gini', max_depth=None,\n",
       "            max_features=None, max_leaf_nodes=None,\n",
       "            min_impurity_split=1e-07, min_samples_leaf=1,\n",
       "            min_samples_split=2, min_weight_fraction_leaf=0.0,\n",
       "            presort=False, random_state=42, splitter='best')"
      ]
     },
     "execution_count": 5,
     "metadata": {},
     "output_type": "execute_result"
    }
   ],
   "source": [
    "tree = DecisionTreeClassifier(random_state=42,\n",
    "                              min_samples_leaf=1,\n",
    "                              )\n",
    "tree = tree.fit(train_x, train_y)\n",
    "tree"
   ]
  },
  {
   "cell_type": "code",
   "execution_count": 6,
   "metadata": {},
   "outputs": [],
   "source": [
    "dot_file = 'tree.dot'\n",
    "export_graphviz(tree,\n",
    "                out_file=dot_file,\n",
    "                feature_names=train_x.columns,\n",
    "                class_names=class_names,\n",
    "                filled=True,\n",
    "                impurity=False,\n",
    "                rounded=True,\n",
    "                )"
   ]
  },
  {
   "cell_type": "code",
   "execution_count": 7,
   "metadata": {
    "scrolled": true
   },
   "outputs": [
    {
     "data": {
      "text/plain": [
       "True"
      ]
     },
     "execution_count": 7,
     "metadata": {},
     "output_type": "execute_result"
    }
   ],
   "source": [
    "graph = graph_from_dot_file(dot_file)\n",
    "graph.write_pdf('tree.pdf')\n",
    "graph.write_png('tree.png')"
   ]
  },
  {
   "cell_type": "code",
   "execution_count": 8,
   "metadata": {},
   "outputs": [
    {
     "data": {
      "text/plain": [
       "0.88235294117647056"
      ]
     },
     "execution_count": 8,
     "metadata": {},
     "output_type": "execute_result"
    }
   ],
   "source": [
    "tree.score(test_x, test_y)"
   ]
  }
 ],
 "metadata": {
  "kernelspec": {
   "display_name": "Python 3",
   "language": "python",
   "name": "python3"
  },
  "language_info": {
   "codemirror_mode": {
    "name": "ipython",
    "version": 3
   },
   "file_extension": ".py",
   "mimetype": "text/x-python",
   "name": "python",
   "nbconvert_exporter": "python",
   "pygments_lexer": "ipython3",
   "version": "3.6.1"
  }
 },
 "nbformat": 4,
 "nbformat_minor": 1
}
