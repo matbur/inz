{
 "cells": [
  {
   "cell_type": "code",
   "execution_count": 61,
   "metadata": {},
   "outputs": [],
   "source": [
    "from sklearn.model_selection import train_test_split as sk_train_test_split\n",
    "import numpy as np\n",
    "\n",
    "from pprint import pprint"
   ]
  },
  {
   "cell_type": "code",
   "execution_count": 231,
   "metadata": {},
   "outputs": [],
   "source": [
    "def train_test_split(*arrays, test_size=.25, shuffle=True):\n",
    "    n = len(arrays[0])\n",
    "    order = np.random.permutation(n) if shuffle else np.arange(n)\n",
    "    k = int(np.ceil(n * test_size))\n",
    "    order_train = order[:-k]\n",
    "    order_test = order[-k:]\n",
    "    l = []\n",
    "    for i in arrays:\n",
    "        l.append(i[order_train])\n",
    "        l.append(i[order_test])\n",
    "    pprint(locals())\n",
    "    return l"
   ]
  },
  {
   "cell_type": "code",
   "execution_count": 232,
   "metadata": {},
   "outputs": [
    {
     "name": "stdout",
     "output_type": "stream",
     "text": [
      "[[ 0  1]\n",
      " [ 2  3]\n",
      " [ 4  5]\n",
      " [ 6  7]\n",
      " [ 8  9]\n",
      " [10 11]\n",
      " [12 13]\n",
      " [14 15]\n",
      " [16 17]\n",
      " [18 19]]\n",
      "[ 1  5  9 13 17 21 25 29 33 37]\n"
     ]
    }
   ],
   "source": [
    "X = np.arange(20).reshape((-1, 2))\n",
    "y = np.sum(X, axis=1)\n",
    "print(X)\n",
    "print(y)"
   ]
  },
  {
   "cell_type": "code",
   "execution_count": 239,
   "metadata": {},
   "outputs": [
    {
     "name": "stdout",
     "output_type": "stream",
     "text": [
      "{'arrays': (array([[ 0,  1],\n",
      "       [ 2,  3],\n",
      "       [ 4,  5],\n",
      "       [ 6,  7],\n",
      "       [ 8,  9],\n",
      "       [10, 11],\n",
      "       [12, 13],\n",
      "       [14, 15],\n",
      "       [16, 17],\n",
      "       [18, 19]]),\n",
      "            array([ 1,  5,  9, 13, 17, 21, 25, 29, 33, 37])),\n",
      " 'i': array([ 1,  5,  9, 13, 17, 21, 25, 29, 33, 37]),\n",
      " 'k': 4,\n",
      " 'l': [array([[ 0,  1],\n",
      "       [ 2,  3],\n",
      "       [ 4,  5],\n",
      "       [ 6,  7],\n",
      "       [ 8,  9],\n",
      "       [10, 11]]),\n",
      "       array([[12, 13],\n",
      "       [14, 15],\n",
      "       [16, 17],\n",
      "       [18, 19]]),\n",
      "       array([ 1,  5,  9, 13, 17, 21]),\n",
      "       array([25, 29, 33, 37])],\n",
      " 'n': 10,\n",
      " 'order': array([0, 1, 2, 3, 4, 5, 6, 7, 8, 9]),\n",
      " 'order_test': array([6, 7, 8, 9]),\n",
      " 'order_train': array([0, 1, 2, 3, 4, 5]),\n",
      " 'shuffle': 0,\n",
      " 'test_size': 0.4}\n"
     ]
    }
   ],
   "source": [
    "X_train, X_test, y_train, y_test = train_test_split(\n",
    "    X, y, shuffle=0, test_size=.4)"
   ]
  },
  {
   "cell_type": "code",
   "execution_count": 240,
   "metadata": {},
   "outputs": [
    {
     "data": {
      "text/plain": [
       "array([[ 0,  1],\n",
       "       [ 2,  3],\n",
       "       [ 4,  5],\n",
       "       [ 6,  7],\n",
       "       [ 8,  9],\n",
       "       [10, 11]])"
      ]
     },
     "execution_count": 240,
     "metadata": {},
     "output_type": "execute_result"
    }
   ],
   "source": [
    "X_train"
   ]
  },
  {
   "cell_type": "code",
   "execution_count": 241,
   "metadata": {},
   "outputs": [
    {
     "data": {
      "text/plain": [
       "array([ 1,  5,  9, 13, 17, 21])"
      ]
     },
     "execution_count": 241,
     "metadata": {},
     "output_type": "execute_result"
    }
   ],
   "source": [
    "y_train"
   ]
  },
  {
   "cell_type": "code",
   "execution_count": 242,
   "metadata": {},
   "outputs": [
    {
     "data": {
      "text/plain": [
       "array([[12, 13],\n",
       "       [14, 15],\n",
       "       [16, 17],\n",
       "       [18, 19]])"
      ]
     },
     "execution_count": 242,
     "metadata": {},
     "output_type": "execute_result"
    }
   ],
   "source": [
    "X_test"
   ]
  },
  {
   "cell_type": "code",
   "execution_count": 243,
   "metadata": {},
   "outputs": [
    {
     "data": {
      "text/plain": [
       "array([25, 29, 33, 37])"
      ]
     },
     "execution_count": 243,
     "metadata": {},
     "output_type": "execute_result"
    }
   ],
   "source": [
    "y_test"
   ]
  },
  {
   "cell_type": "code",
   "execution_count": 244,
   "metadata": {},
   "outputs": [
    {
     "name": "stdout",
     "output_type": "stream",
     "text": [
      "{'arrays': (array([0, 1, 2, 3, 4]),),\n",
      " 'i': array([0, 1, 2, 3, 4]),\n",
      " 'k': 2,\n",
      " 'l': [array([0, 1, 2]), array([3, 4])],\n",
      " 'n': 5,\n",
      " 'order': array([0, 1, 2, 3, 4]),\n",
      " 'order_test': array([3, 4]),\n",
      " 'order_train': array([0, 1, 2]),\n",
      " 'shuffle': False,\n",
      " 'test_size': 0.25}\n"
     ]
    },
    {
     "data": {
      "text/plain": [
       "[array([0, 1, 2]), array([3, 4])]"
      ]
     },
     "execution_count": 244,
     "metadata": {},
     "output_type": "execute_result"
    }
   ],
   "source": [
    "train_test_split(np.array(range(5))\n",
    "                , shuffle=False)"
   ]
  },
  {
   "cell_type": "code",
   "execution_count": null,
   "metadata": {},
   "outputs": [],
   "source": []
  },
  {
   "cell_type": "code",
   "execution_count": null,
   "metadata": {},
   "outputs": [],
   "source": []
  },
  {
   "cell_type": "code",
   "execution_count": null,
   "metadata": {},
   "outputs": [],
   "source": []
  }
 ],
 "metadata": {
  "kernelspec": {
   "display_name": "Python 3",
   "language": "python",
   "name": "python3"
  },
  "language_info": {
   "codemirror_mode": {
    "name": "ipython",
    "version": 3
   },
   "file_extension": ".py",
   "mimetype": "text/x-python",
   "name": "python",
   "nbconvert_exporter": "python",
   "pygments_lexer": "ipython3",
   "version": "3.6.3"
  }
 },
 "nbformat": 4,
 "nbformat_minor": 2
}
