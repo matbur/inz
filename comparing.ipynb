{
 "cells": [
  {
   "cell_type": "code",
   "execution_count": 1,
   "metadata": {
    "collapsed": true
   },
   "outputs": [],
   "source": [
    "import pandas as pd\n",
    "from sklearn.model_selection import train_test_split\n",
    "from sklearn.tree import DecisionTreeClassifier\n",
    "from sklearn.neural_network import MLPClassifier\n",
    "from sklearn.neighbors import KNeighborsClassifier"
   ]
  },
  {
   "cell_type": "code",
   "execution_count": 2,
   "metadata": {
    "scrolled": true
   },
   "outputs": [
    {
     "name": "stdout",
     "output_type": "stream",
     "text": [
      "(476, 32)\n"
     ]
    },
    {
     "data": {
      "text/html": [
       "<div>\n",
       "<style>\n",
       "    .dataframe thead tr:only-child th {\n",
       "        text-align: right;\n",
       "    }\n",
       "\n",
       "    .dataframe thead th {\n",
       "        text-align: left;\n",
       "    }\n",
       "\n",
       "    .dataframe tbody tr th {\n",
       "        vertical-align: top;\n",
       "    }\n",
       "</style>\n",
       "<table border=\"1\" class=\"dataframe\">\n",
       "  <thead>\n",
       "    <tr style=\"text-align: right;\">\n",
       "      <th></th>\n",
       "      <th>Płeć</th>\n",
       "      <th>Wiek</th>\n",
       "      <th>Lokalizacja bólu na początku zachorowania</th>\n",
       "      <th>Lokalizacja bólu obecnie</th>\n",
       "      <th>Intensywność bólu</th>\n",
       "      <th>Czynniki nasilające ból</th>\n",
       "      <th>Czynniki przynoszące ulgę</th>\n",
       "      <th>Progresja bólu</th>\n",
       "      <th>Czas trwania bólu</th>\n",
       "      <th>Charakter bólu na początku zachorowania</th>\n",
       "      <th>...</th>\n",
       "      <th>Tętno</th>\n",
       "      <th>Ruchy oddechowe powłok brzusznych</th>\n",
       "      <th>Wzdęcia</th>\n",
       "      <th>Umiejscowienie bolesności uciskowej</th>\n",
       "      <th>Objaw Blumberga</th>\n",
       "      <th>Obrona mięśniowa</th>\n",
       "      <th>Wzmożone napięcie powłok brzusznych</th>\n",
       "      <th>Opory patologiczne</th>\n",
       "      <th>Objaw Murphy'ego</th>\n",
       "      <th>Choroba</th>\n",
       "    </tr>\n",
       "  </thead>\n",
       "  <tbody>\n",
       "    <tr>\n",
       "      <th>0</th>\n",
       "      <td>2</td>\n",
       "      <td>5</td>\n",
       "      <td>7</td>\n",
       "      <td>7</td>\n",
       "      <td>1</td>\n",
       "      <td>3</td>\n",
       "      <td>2</td>\n",
       "      <td>1</td>\n",
       "      <td>3</td>\n",
       "      <td>2</td>\n",
       "      <td>...</td>\n",
       "      <td>5</td>\n",
       "      <td>2</td>\n",
       "      <td>2</td>\n",
       "      <td>8</td>\n",
       "      <td>2</td>\n",
       "      <td>1</td>\n",
       "      <td>2</td>\n",
       "      <td>2</td>\n",
       "      <td>1</td>\n",
       "      <td>1</td>\n",
       "    </tr>\n",
       "    <tr>\n",
       "      <th>1</th>\n",
       "      <td>2</td>\n",
       "      <td>5</td>\n",
       "      <td>4</td>\n",
       "      <td>1</td>\n",
       "      <td>3</td>\n",
       "      <td>3</td>\n",
       "      <td>1</td>\n",
       "      <td>2</td>\n",
       "      <td>3</td>\n",
       "      <td>2</td>\n",
       "      <td>...</td>\n",
       "      <td>7</td>\n",
       "      <td>2</td>\n",
       "      <td>1</td>\n",
       "      <td>3</td>\n",
       "      <td>2</td>\n",
       "      <td>1</td>\n",
       "      <td>1</td>\n",
       "      <td>2</td>\n",
       "      <td>1</td>\n",
       "      <td>1</td>\n",
       "    </tr>\n",
       "    <tr>\n",
       "      <th>2</th>\n",
       "      <td>2</td>\n",
       "      <td>3</td>\n",
       "      <td>4</td>\n",
       "      <td>5</td>\n",
       "      <td>2</td>\n",
       "      <td>3</td>\n",
       "      <td>2</td>\n",
       "      <td>3</td>\n",
       "      <td>4</td>\n",
       "      <td>2</td>\n",
       "      <td>...</td>\n",
       "      <td>4</td>\n",
       "      <td>1</td>\n",
       "      <td>2</td>\n",
       "      <td>2</td>\n",
       "      <td>1</td>\n",
       "      <td>2</td>\n",
       "      <td>1</td>\n",
       "      <td>1</td>\n",
       "      <td>1</td>\n",
       "      <td>1</td>\n",
       "    </tr>\n",
       "    <tr>\n",
       "      <th>3</th>\n",
       "      <td>2</td>\n",
       "      <td>5</td>\n",
       "      <td>7</td>\n",
       "      <td>2</td>\n",
       "      <td>1</td>\n",
       "      <td>3</td>\n",
       "      <td>1</td>\n",
       "      <td>2</td>\n",
       "      <td>2</td>\n",
       "      <td>2</td>\n",
       "      <td>...</td>\n",
       "      <td>7</td>\n",
       "      <td>2</td>\n",
       "      <td>1</td>\n",
       "      <td>11</td>\n",
       "      <td>2</td>\n",
       "      <td>2</td>\n",
       "      <td>2</td>\n",
       "      <td>1</td>\n",
       "      <td>1</td>\n",
       "      <td>1</td>\n",
       "    </tr>\n",
       "    <tr>\n",
       "      <th>4</th>\n",
       "      <td>2</td>\n",
       "      <td>3</td>\n",
       "      <td>4</td>\n",
       "      <td>11</td>\n",
       "      <td>2</td>\n",
       "      <td>3</td>\n",
       "      <td>3</td>\n",
       "      <td>2</td>\n",
       "      <td>3</td>\n",
       "      <td>1</td>\n",
       "      <td>...</td>\n",
       "      <td>4</td>\n",
       "      <td>1</td>\n",
       "      <td>2</td>\n",
       "      <td>6</td>\n",
       "      <td>2</td>\n",
       "      <td>1</td>\n",
       "      <td>2</td>\n",
       "      <td>2</td>\n",
       "      <td>2</td>\n",
       "      <td>1</td>\n",
       "    </tr>\n",
       "  </tbody>\n",
       "</table>\n",
       "<p>5 rows × 32 columns</p>\n",
       "</div>"
      ],
      "text/plain": [
       "   Płeć  Wiek  Lokalizacja bólu na początku zachorowania  \\\n",
       "0     2     5                                          7   \n",
       "1     2     5                                          4   \n",
       "2     2     3                                          4   \n",
       "3     2     5                                          7   \n",
       "4     2     3                                          4   \n",
       "\n",
       "   Lokalizacja bólu obecnie  Intensywność bólu  Czynniki nasilające ból  \\\n",
       "0                         7                  1                        3   \n",
       "1                         1                  3                        3   \n",
       "2                         5                  2                        3   \n",
       "3                         2                  1                        3   \n",
       "4                        11                  2                        3   \n",
       "\n",
       "   Czynniki przynoszące ulgę  Progresja bólu  Czas trwania bólu  \\\n",
       "0                          2               1                  3   \n",
       "1                          1               2                  3   \n",
       "2                          2               3                  4   \n",
       "3                          1               2                  2   \n",
       "4                          3               2                  3   \n",
       "\n",
       "   Charakter bólu na początku zachorowania   ...     Tętno  \\\n",
       "0                                        2   ...         5   \n",
       "1                                        2   ...         7   \n",
       "2                                        2   ...         4   \n",
       "3                                        2   ...         7   \n",
       "4                                        1   ...         4   \n",
       "\n",
       "   Ruchy oddechowe powłok brzusznych  Wzdęcia  \\\n",
       "0                                  2        2   \n",
       "1                                  2        1   \n",
       "2                                  1        2   \n",
       "3                                  2        1   \n",
       "4                                  1        2   \n",
       "\n",
       "   Umiejscowienie bolesności uciskowej  Objaw Blumberga  Obrona mięśniowa  \\\n",
       "0                                    8                2                 1   \n",
       "1                                    3                2                 1   \n",
       "2                                    2                1                 2   \n",
       "3                                   11                2                 2   \n",
       "4                                    6                2                 1   \n",
       "\n",
       "   Wzmożone napięcie powłok brzusznych  Opory patologiczne  Objaw Murphy'ego  \\\n",
       "0                                    2                   2                 1   \n",
       "1                                    1                   2                 1   \n",
       "2                                    1                   1                 1   \n",
       "3                                    2                   1                 1   \n",
       "4                                    2                   2                 2   \n",
       "\n",
       "   Choroba  \n",
       "0        1  \n",
       "1        1  \n",
       "2        1  \n",
       "3        1  \n",
       "4        1  \n",
       "\n",
       "[5 rows x 32 columns]"
      ]
     },
     "execution_count": 2,
     "metadata": {},
     "output_type": "execute_result"
    }
   ],
   "source": [
    "fn = 'data.csv'\n",
    "data = pd.read_csv(fn)\n",
    "\n",
    "print(data.shape)\n",
    "data.head()"
   ]
  },
  {
   "cell_type": "code",
   "execution_count": 3,
   "metadata": {
    "collapsed": true
   },
   "outputs": [],
   "source": [
    "train_x, test_x = train_test_split(data)\n",
    "\n",
    "train_y = train_x.pop('Choroba')\n",
    "test_y = test_x.pop('Choroba')"
   ]
  },
  {
   "cell_type": "code",
   "execution_count": 4,
   "metadata": {
    "scrolled": false
   },
   "outputs": [
    {
     "data": {
      "text/plain": [
       "0.81512605042016806"
      ]
     },
     "execution_count": 4,
     "metadata": {},
     "output_type": "execute_result"
    }
   ],
   "source": [
    "tree = DecisionTreeClassifier(random_state=42,\n",
    "                              min_samples_leaf=1,\n",
    "                              )\n",
    "tree = tree.fit(train_x, train_y)\n",
    "tree.score(test_x, test_y)"
   ]
  },
  {
   "cell_type": "code",
   "execution_count": 5,
   "metadata": {
    "scrolled": true
   },
   "outputs": [
    {
     "name": "stderr",
     "output_type": "stream",
     "text": [
      "/usr/lib/python3.6/site-packages/sklearn/neural_network/multilayer_perceptron.py:563: ConvergenceWarning: Stochastic Optimizer: Maximum iterations reached and the optimization hasn't converged yet.\n",
      "  % (), ConvergenceWarning)\n"
     ]
    },
    {
     "data": {
      "text/plain": [
       "0.92436974789915971"
      ]
     },
     "execution_count": 5,
     "metadata": {},
     "output_type": "execute_result"
    }
   ],
   "source": [
    "dnn = MLPClassifier()\n",
    "dnn.fit(train_x, train_y)\n",
    "dnn.score(test_x, test_y)"
   ]
  },
  {
   "cell_type": "code",
   "execution_count": 6,
   "metadata": {},
   "outputs": [
    {
     "data": {
      "text/plain": [
       "0.75630252100840334"
      ]
     },
     "execution_count": 6,
     "metadata": {},
     "output_type": "execute_result"
    }
   ],
   "source": [
    "knn = KNeighborsClassifier()\n",
    "knn.fit(train_x, train_y)\n",
    "knn.score(test_x, test_y)"
   ]
  }
 ],
 "metadata": {
  "kernelspec": {
   "display_name": "Python 3",
   "language": "python",
   "name": "python3"
  },
  "language_info": {
   "codemirror_mode": {
    "name": "ipython",
    "version": 3
   },
   "file_extension": ".py",
   "mimetype": "text/x-python",
   "name": "python",
   "nbconvert_exporter": "python",
   "pygments_lexer": "ipython3",
   "version": "3.6.1"
  }
 },
 "nbformat": 4,
 "nbformat_minor": 1
}
